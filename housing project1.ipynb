{
 "cells": [
  {
   "cell_type": "markdown",
   "id": "2f1e4788",
   "metadata": {},
   "source": [
    "## Housing Project\n",
    "#### Data from Kaggle.com"
   ]
  },
  {
   "cell_type": "code",
   "execution_count": 3,
   "id": "5b5286ce",
   "metadata": {},
   "outputs": [],
   "source": [
    "import numpy as np\n",
    "import pandas as pd\n",
    "import matplotlib.pyplot as plt"
   ]
  },
  {
   "cell_type": "code",
   "execution_count": 4,
   "id": "98c69857",
   "metadata": {},
   "outputs": [],
   "source": [
    "# Load dataset\n",
    "df = pd.read_csv(\"American_Housing_Data_20231209.csv\")"
   ]
  },
  {
   "cell_type": "code",
   "execution_count": 6,
   "id": "8ff1b757",
   "metadata": {},
   "outputs": [
    {
     "data": {
      "text/html": [
       "<div>\n",
       "<style scoped>\n",
       "    .dataframe tbody tr th:only-of-type {\n",
       "        vertical-align: middle;\n",
       "    }\n",
       "\n",
       "    .dataframe tbody tr th {\n",
       "        vertical-align: top;\n",
       "    }\n",
       "\n",
       "    .dataframe thead th {\n",
       "        text-align: right;\n",
       "    }\n",
       "</style>\n",
       "<table border=\"1\" class=\"dataframe\">\n",
       "  <thead>\n",
       "    <tr style=\"text-align: right;\">\n",
       "      <th></th>\n",
       "      <th>Zip Code</th>\n",
       "      <th>Price</th>\n",
       "      <th>Beds</th>\n",
       "      <th>Baths</th>\n",
       "      <th>Living Space</th>\n",
       "      <th>Zip Code Population</th>\n",
       "      <th>Zip Code Density</th>\n",
       "      <th>Median Household Income</th>\n",
       "      <th>Latitude</th>\n",
       "      <th>Longitude</th>\n",
       "    </tr>\n",
       "  </thead>\n",
       "  <tbody>\n",
       "    <tr>\n",
       "      <th>count</th>\n",
       "      <td>39981.000000</td>\n",
       "      <td>3.998100e+04</td>\n",
       "      <td>39981.000000</td>\n",
       "      <td>39981.000000</td>\n",
       "      <td>39981.000000</td>\n",
       "      <td>39981.000000</td>\n",
       "      <td>39981.000000</td>\n",
       "      <td>39979.000000</td>\n",
       "      <td>39981.000000</td>\n",
       "      <td>39981.000000</td>\n",
       "    </tr>\n",
       "    <tr>\n",
       "      <th>mean</th>\n",
       "      <td>64833.391336</td>\n",
       "      <td>6.227771e+05</td>\n",
       "      <td>3.171682</td>\n",
       "      <td>2.466572</td>\n",
       "      <td>1901.522723</td>\n",
       "      <td>37726.201996</td>\n",
       "      <td>2379.412483</td>\n",
       "      <td>110837.259861</td>\n",
       "      <td>36.435668</td>\n",
       "      <td>-98.080576</td>\n",
       "    </tr>\n",
       "    <tr>\n",
       "      <th>std</th>\n",
       "      <td>25614.601116</td>\n",
       "      <td>9.469793e+05</td>\n",
       "      <td>1.308796</td>\n",
       "      <td>1.323042</td>\n",
       "      <td>1211.307257</td>\n",
       "      <td>18672.647445</td>\n",
       "      <td>2946.574792</td>\n",
       "      <td>47309.055715</td>\n",
       "      <td>4.446862</td>\n",
       "      <td>15.061145</td>\n",
       "    </tr>\n",
       "    <tr>\n",
       "      <th>min</th>\n",
       "      <td>10013.000000</td>\n",
       "      <td>1.800000e+03</td>\n",
       "      <td>1.000000</td>\n",
       "      <td>1.000000</td>\n",
       "      <td>2.000000</td>\n",
       "      <td>0.000000</td>\n",
       "      <td>0.000000</td>\n",
       "      <td>27475.000000</td>\n",
       "      <td>25.729830</td>\n",
       "      <td>-122.826870</td>\n",
       "    </tr>\n",
       "    <tr>\n",
       "      <th>25%</th>\n",
       "      <td>40215.000000</td>\n",
       "      <td>2.650000e+05</td>\n",
       "      <td>3.000000</td>\n",
       "      <td>2.000000</td>\n",
       "      <td>1200.000000</td>\n",
       "      <td>24465.000000</td>\n",
       "      <td>902.400000</td>\n",
       "      <td>76640.000000</td>\n",
       "      <td>33.239850</td>\n",
       "      <td>-111.636310</td>\n",
       "    </tr>\n",
       "    <tr>\n",
       "      <th>50%</th>\n",
       "      <td>74136.000000</td>\n",
       "      <td>3.999000e+05</td>\n",
       "      <td>3.000000</td>\n",
       "      <td>2.000000</td>\n",
       "      <td>1639.000000</td>\n",
       "      <td>35049.000000</td>\n",
       "      <td>1588.700000</td>\n",
       "      <td>100405.000000</td>\n",
       "      <td>36.166620</td>\n",
       "      <td>-96.839680</td>\n",
       "    </tr>\n",
       "    <tr>\n",
       "      <th>75%</th>\n",
       "      <td>85730.000000</td>\n",
       "      <td>6.749900e+05</td>\n",
       "      <td>4.000000</td>\n",
       "      <td>3.000000</td>\n",
       "      <td>2265.000000</td>\n",
       "      <td>46816.000000</td>\n",
       "      <td>2736.800000</td>\n",
       "      <td>135075.000000</td>\n",
       "      <td>39.283090</td>\n",
       "      <td>-85.656980</td>\n",
       "    </tr>\n",
       "    <tr>\n",
       "      <th>max</th>\n",
       "      <td>98199.000000</td>\n",
       "      <td>3.800000e+07</td>\n",
       "      <td>54.000000</td>\n",
       "      <td>66.000000</td>\n",
       "      <td>74340.000000</td>\n",
       "      <td>116469.000000</td>\n",
       "      <td>58289.600000</td>\n",
       "      <td>900203.000000</td>\n",
       "      <td>47.742370</td>\n",
       "      <td>-73.704510</td>\n",
       "    </tr>\n",
       "  </tbody>\n",
       "</table>\n",
       "</div>"
      ],
      "text/plain": [
       "           Zip Code         Price          Beds         Baths  Living Space  \\\n",
       "count  39981.000000  3.998100e+04  39981.000000  39981.000000  39981.000000   \n",
       "mean   64833.391336  6.227771e+05      3.171682      2.466572   1901.522723   \n",
       "std    25614.601116  9.469793e+05      1.308796      1.323042   1211.307257   \n",
       "min    10013.000000  1.800000e+03      1.000000      1.000000      2.000000   \n",
       "25%    40215.000000  2.650000e+05      3.000000      2.000000   1200.000000   \n",
       "50%    74136.000000  3.999000e+05      3.000000      2.000000   1639.000000   \n",
       "75%    85730.000000  6.749900e+05      4.000000      3.000000   2265.000000   \n",
       "max    98199.000000  3.800000e+07     54.000000     66.000000  74340.000000   \n",
       "\n",
       "       Zip Code Population  Zip Code Density  Median Household Income  \\\n",
       "count         39981.000000      39981.000000             39979.000000   \n",
       "mean          37726.201996       2379.412483            110837.259861   \n",
       "std           18672.647445       2946.574792             47309.055715   \n",
       "min               0.000000          0.000000             27475.000000   \n",
       "25%           24465.000000        902.400000             76640.000000   \n",
       "50%           35049.000000       1588.700000            100405.000000   \n",
       "75%           46816.000000       2736.800000            135075.000000   \n",
       "max          116469.000000      58289.600000            900203.000000   \n",
       "\n",
       "           Latitude     Longitude  \n",
       "count  39981.000000  39981.000000  \n",
       "mean      36.435668    -98.080576  \n",
       "std        4.446862     15.061145  \n",
       "min       25.729830   -122.826870  \n",
       "25%       33.239850   -111.636310  \n",
       "50%       36.166620    -96.839680  \n",
       "75%       39.283090    -85.656980  \n",
       "max       47.742370    -73.704510  "
      ]
     },
     "execution_count": 6,
     "metadata": {},
     "output_type": "execute_result"
    }
   ],
   "source": [
    "df.describe()"
   ]
  },
  {
   "cell_type": "code",
   "execution_count": 7,
   "id": "40f661ae",
   "metadata": {},
   "outputs": [
    {
     "data": {
      "text/plain": [
       "Index(['Zip Code', 'Price', 'Beds', 'Baths', 'Living Space', 'Address', 'City',\n",
       "       'State', 'Zip Code Population', 'Zip Code Density', 'County',\n",
       "       'Median Household Income', 'Latitude', 'Longitude'],\n",
       "      dtype='object')"
      ]
     },
     "execution_count": 7,
     "metadata": {},
     "output_type": "execute_result"
    }
   ],
   "source": [
    "df.columns"
   ]
  },
  {
   "cell_type": "code",
   "execution_count": 11,
   "id": "885e9d6a",
   "metadata": {},
   "outputs": [
    {
     "name": "stdout",
     "output_type": "stream",
     "text": [
      "<class 'pandas.core.frame.DataFrame'>\n",
      "RangeIndex: 39981 entries, 0 to 39980\n",
      "Data columns (total 14 columns):\n",
      " #   Column                   Non-Null Count  Dtype  \n",
      "---  ------                   --------------  -----  \n",
      " 0   Zip Code                 39981 non-null  int64  \n",
      " 1   Price                    39981 non-null  float64\n",
      " 2   Beds                     39981 non-null  int64  \n",
      " 3   Baths                    39981 non-null  int64  \n",
      " 4   Living Space             39981 non-null  int64  \n",
      " 5   Address                  39981 non-null  object \n",
      " 6   City                     39981 non-null  object \n",
      " 7   State                    39981 non-null  object \n",
      " 8   Zip Code Population      39981 non-null  int64  \n",
      " 9   Zip Code Density         39981 non-null  float64\n",
      " 10  County                   39981 non-null  object \n",
      " 11  Median Household Income  39979 non-null  float64\n",
      " 12  Latitude                 39981 non-null  float64\n",
      " 13  Longitude                39981 non-null  float64\n",
      "dtypes: float64(5), int64(5), object(4)\n",
      "memory usage: 4.3+ MB\n"
     ]
    }
   ],
   "source": [
    "df.info()"
   ]
  },
  {
   "cell_type": "code",
   "execution_count": 12,
   "id": "6b6a31c8",
   "metadata": {},
   "outputs": [
    {
     "data": {
      "text/plain": [
       "array(['74 GRAND ST APT 3', '140 CHARLES ST APT 4D', '38 JONES ST', ...,\n",
       "       '3257 22ND AVE W', '3711 26TH PL W APT 102', '2911 25TH AVE W'],\n",
       "      shape=(38827,), dtype=object)"
      ]
     },
     "execution_count": 12,
     "metadata": {},
     "output_type": "execute_result"
    }
   ],
   "source": [
    "df['Address'].unique()"
   ]
  },
  {
   "cell_type": "code",
   "execution_count": 13,
   "id": "605b4e77",
   "metadata": {},
   "outputs": [
    {
     "name": "stdout",
     "output_type": "stream",
     "text": [
      "Address\n",
      "331 N 127TH ST E               20\n",
      "1501 W 19TH ST                 16\n",
      "5535 ACKERFIELD AVE UNIT 26    16\n",
      "1734 N STANTON PL              16\n",
      "30 SAVONA WALK                 12\n",
      "                               ..\n",
      "10434 11TH AVE SW               2\n",
      "3735 SW 100TH ST                2\n",
      "909 5TH AVE UNIT 2205           2\n",
      "11040 1ST AVE NW # B            2\n",
      "6103 S NORFOLK ST               2\n",
      "Name: count, Length: 983, dtype: int64\n"
     ]
    }
   ],
   "source": [
    "duplicates = df[df.duplicated(subset='Address', keep=False)]\n",
    "dup_counts = duplicates['Address'].value_counts()\n",
    "print(dup_counts)"
   ]
  },
  {
   "cell_type": "code",
   "execution_count": null,
   "id": "81e7075d",
   "metadata": {},
   "outputs": [],
   "source": []
  }
 ],
 "metadata": {
  "kernelspec": {
   "display_name": "Python 3",
   "language": "python",
   "name": "python3"
  },
  "language_info": {
   "codemirror_mode": {
    "name": "ipython",
    "version": 3
   },
   "file_extension": ".py",
   "mimetype": "text/x-python",
   "name": "python",
   "nbconvert_exporter": "python",
   "pygments_lexer": "ipython3",
   "version": "3.13.0"
  }
 },
 "nbformat": 4,
 "nbformat_minor": 5
}
